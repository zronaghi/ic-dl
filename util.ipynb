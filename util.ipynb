{
 "cells": [
  {
   "cell_type": "code",
   "execution_count": 1,
   "metadata": {},
   "outputs": [],
   "source": [
    "import h5py\n",
    "import numpy as np"
   ]
  },
  {
   "cell_type": "code",
   "execution_count": 2,
   "metadata": {},
   "outputs": [
    {
     "data": {
      "text/html": [
       "<style>.container { width:100% !important; }</style>"
      ],
      "text/plain": [
       "<IPython.core.display.HTML object>"
      ]
     },
     "metadata": {},
     "output_type": "display_data"
    }
   ],
   "source": [
    "from IPython.core.display import display, HTML\n",
    "display(HTML(\"<style>.container { width:100% !important; }</style>\"))"
   ]
  },
  {
   "cell_type": "code",
   "execution_count": 3,
   "metadata": {},
   "outputs": [],
   "source": [
    "total_doms = 60\n",
    "total_height = 10\n",
    "total_width = 20"
   ]
  },
  {
   "cell_type": "code",
   "execution_count": 4,
   "metadata": {},
   "outputs": [],
   "source": [
    "def get_keys(hf, name):\n",
    "    return hf[name].keys()\n",
    "\n",
    "def get_nonempty_(hf, name):\n",
    "    '''returns keys, where there exists some data'''\n",
    "    nonempty_keys = [k for k in get_keys(hf,name) if hf[name][k].shape[0] > 0 ]\n",
    "    return nonempty_keys\n",
    "\n",
    "def get_empty_(hf, name):\n",
    "    '''returns keys where there doesn't exist any data'''\n",
    "    empty_keys = [k for k in get_keys(hf,name) if hf[name][k].shape[0] == 0 ]\n",
    "    return empty_keys\n",
    "\n",
    "def get_nonempty_events(hf):\n",
    "    '''returns keys of events, where there exists some data'''\n",
    "    nonempty_events = get_nonempty_(hf, \"events\")\n",
    "    return nonempty_events\n",
    "\n",
    "def get_empty_events(hf):\n",
    "    '''returns keys of events, where there doesn't exist any data'''\n",
    "    empty_events = get_empty_(hf, \"events\")\n",
    "    return empty_events\n",
    "\n",
    "def get_nonempty_pulses(hf):\n",
    "    '''returns keys of pulses, where there exists some data'''\n",
    "    nonempty_pulses = get_nonempty_(hf, \"pulses\")\n",
    "    return nonempty_pulses\n",
    "\n",
    "def get_empty_pulses(hf):\n",
    "    '''returns keys of pulses, where there doesn't exist any data'''\n",
    "    empty_pulses = get_empty_(hf, \"pulses\")\n",
    "    return empty_pulses\n",
    "\n",
    "def get_pulse_array(hf, event_id):\n",
    "    pulse_arrs = hf[\"pulses\"][event_id][:]\n",
    "    return pulse_arrs"
   ]
  },
  {
   "cell_type": "code",
   "execution_count": 5,
   "metadata": {},
   "outputs": [],
   "source": [
    "def get_height_to_width_map():\n",
    "    '''list of widths (number of strings) at each height starting from bottom\n",
    "    aka if patt_from_bot[0] = 6 that means there are 6 strings in the bottommost height of hexagon'''\n",
    "    patt_from_bot = dict(zip(range(10),[4, 7, 8, 9, 10, 10, 9, 8, 7, 6]))\n",
    "    return patt_from_bot\n",
    "        "
   ]
  },
  {
   "cell_type": "code",
   "execution_count": 6,
   "metadata": {},
   "outputs": [],
   "source": [
    "def get_height_to_offset_from_left_map():\n",
    "    '''list of offsets from leftmost stringat each given height starting from bottom'''\n",
    "    offset_from_bot = dict(zip(range(10),[5, 4, 3, 2, 1, 0, 1, 2, 3, 4]))\n",
    "    return offset_from_bot\n",
    "    "
   ]
  },
  {
   "cell_type": "code",
   "execution_count": 7,
   "metadata": {},
   "outputs": [],
   "source": [
    "def get_height_to_string_nums_map():\n",
    "    '''makes a map that takes height from bottom maps to all string nums at that height'''\n",
    "    patt_from_bot = get_height_to_width_map()\n",
    "    ind = 78\n",
    "    d={}\n",
    "    for height, width in patt_from_bot.iteritems():\n",
    "        d[height] = range(ind-width + 1, ind + 1)\n",
    "        ind -= width\n",
    "    return d\n",
    "        "
   ]
  },
  {
   "cell_type": "code",
   "execution_count": 8,
   "metadata": {},
   "outputs": [],
   "source": [
    "def make_template_arr():\n",
    "    # make test array\n",
    "    test_arr = np.zeros((total_height,total_width))\n",
    "    \n",
    "    #get all the maps\n",
    "    hsnm = get_height_to_string_nums_map()\n",
    "    hoflm = get_height_to_offset_from_left_map()\n",
    "    hwm = get_height_to_width_map()\n",
    "    \n",
    "    #place all the string numbers on the test array\n",
    "    for height in range(total_height):\n",
    "        offset_from_left = hoflm[height]\n",
    "        width = hwm[height]\n",
    "        end_from_left = offset_from_left + (width * 2) -1\n",
    "        test_arr[height,  offset_from_left:end_from_left:2] = hsnm[height]\n",
    "    test_arr =test_arr.astype(\"int32\")\n",
    "    return test_arr\n"
   ]
  },
  {
   "cell_type": "code",
   "execution_count": 9,
   "metadata": {},
   "outputs": [],
   "source": [
    "def make_string_num_to_arr_inds_map():\n",
    "    arr=make_template_arr()\n",
    "    # get coordinates where strings are\n",
    "    coords = np.argwhere(arr > 0)\n",
    "    #get string nums in order of coords\n",
    "    snums = [arr[coord[0], coord[1]] for coord in coords]\n",
    "    #make map\n",
    "    snum_to_coords = dict(zip(snums, coords))\n",
    "    return snum_to_coords"
   ]
  },
  {
   "cell_type": "code",
   "execution_count": 10,
   "metadata": {
    "collapsed": true
   },
   "outputs": [],
   "source": [
    "def get_height_width_from_string_num(string_num):\n",
    "    ma = make_string_num_to_arr_inds_map()\n",
    "    height, width = ma[string_num]\n",
    "    return height, width\n",
    "    "
   ]
  },
  {
   "cell_type": "code",
   "execution_count": 11,
   "metadata": {
    "collapsed": true
   },
   "outputs": [],
   "source": [
    "def get_string_num(arr):\n",
    "    string_num_ind = 6\n",
    "    return arr[string_num_ind]"
   ]
  },
  {
   "cell_type": "code",
   "execution_count": 12,
   "metadata": {
    "collapsed": true
   },
   "outputs": [],
   "source": [
    "def get_sensor_depth(arr):\n",
    "    ndom_ind = 5\n",
    "    return arr[ndom_ind]"
   ]
  },
  {
   "cell_type": "code",
   "execution_count": 13,
   "metadata": {
    "collapsed": true
   },
   "outputs": [],
   "source": [
    "def get_total_charge(arr):\n",
    "    tot_charge_ind = 7\n",
    "    return arr[tot_charge_ind]"
   ]
  },
  {
   "cell_type": "code",
   "execution_count": 14,
   "metadata": {
    "collapsed": true
   },
   "outputs": [],
   "source": [
    "def get_stats(arr):\n",
    "    return {\"string_num\": get_string_num(arr),\n",
    "            \"sensor_depth\": get_sensor_depth(arr),\n",
    "            \"total_charge\": get_total_charge(arr)}"
   ]
  },
  {
   "cell_type": "code",
   "execution_count": 15,
   "metadata": {
    "collapsed": true
   },
   "outputs": [],
   "source": [
    "def add_pulse_to_inp_tensor(tens,example_number, pulse_arr):\n",
    "    for pulse in pulse_arr:\n",
    "        #print pulse\n",
    "        s = get_stats(pulse)\n",
    "        string_num, depth, charge = [s[k] for k in [\"string_num\", \"sensor_depth\", \"total_charge\"]]\n",
    "        if string_num > 78:\n",
    "            continue #don't worry about deep core for now\n",
    "        height, width = get_height_width_from_string_num(string_num)\n",
    "        tens[example_number, depth -1, height, width] = charge\n",
    "    return tens"
   ]
  },
  {
   "cell_type": "code",
   "execution_count": null,
   "metadata": {},
   "outputs": [],
   "source": []
  },
  {
   "cell_type": "code",
   "execution_count": null,
   "metadata": {
    "collapsed": true
   },
   "outputs": [],
   "source": []
  }
 ],
 "metadata": {
  "anaconda-cloud": {},
  "kernelspec": {
   "display_name": "Python [conda env:3.6-anaconda-4.4]",
   "language": "python",
   "name": "conda-env-3.6-anaconda-4.4-py"
  },
  "language_info": {
   "codemirror_mode": {
    "name": "ipython",
    "version": 3
   },
   "file_extension": ".py",
   "mimetype": "text/x-python",
   "name": "python",
   "nbconvert_exporter": "python",
   "pygments_lexer": "ipython3",
   "version": "3.6.1"
  }
 },
 "nbformat": 4,
 "nbformat_minor": 1
}
