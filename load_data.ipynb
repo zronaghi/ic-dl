{
 "cells": [
  {
   "cell_type": "code",
   "execution_count": 1,
   "metadata": {},
   "outputs": [
    {
     "name": "stdout",
     "output_type": "stream",
     "text": [
      "importing Jupyter notebook from util.ipynb\n"
     ]
    },
    {
     "data": {
      "text/html": [
       "<style>.container { width:100% !important; }</style>"
      ],
      "text/plain": [
       "<IPython.core.display.HTML object>"
      ]
     },
     "metadata": {},
     "output_type": "display_data"
    }
   ],
   "source": [
    "import numpy as np\n",
    "import h5py\n",
    "from nbfinder import NotebookFinder\n",
    "import sys\n",
    "sys.meta_path.append(NotebookFinder())\n",
    "from util import add_pulse_to_inp_tensor, get_nonempty_pulses, total_doms, total_height, total_width, get_pulse_array, get_nonempty_events"
   ]
  },
  {
   "cell_type": "code",
   "execution_count": 2,
   "metadata": {
    "collapsed": true
   },
   "outputs": [],
   "source": [
    "def make_dataset(filename, sig_or_bg):\n",
    "    hf = h5py.File(filename)\n",
    "    pulse_array_keys = get_nonempty_pulses(hf)\n",
    "    num_events = len(pulse_array_keys)\n",
    "    \n",
    "    \n",
    "    tens = np.zeros((num_events, total_doms, total_height, total_width))\n",
    "    \n",
    "    \n",
    "    for ex_num, pulse_array_key in enumerate(pulse_array_keys):\n",
    "        pulse_array = get_pulse_array(hf, pulse_array_key)\n",
    "        add_pulse_to_inp_tensor(tens, ex_num, pulse_array)\n",
    "        \n",
    "    lbls = np.ones((num_events,)) if sig_or_bg == \"sig\" else np.zeros((num_events,))\n",
    "    \n",
    "    return tens, lbls\n",
    "        \n",
    "    \n",
    "    \n",
    "    \n",
    "\n",
    "def get_data(sig_filename_list, bg_filename_list):\n",
    "    x, y = make_dataset(sig_filename_list[0], \"sig\")\n",
    "    for fn in sig_filename_list[1:]:\n",
    "    #for fn in sig_filename_list:\n",
    "        xs,ys = make_dataset(fn, \"sig\")\n",
    "        x = np.vstack((x,xs))\n",
    "        y = np.concatenate((y,ys))\n",
    "    for fn in bg_filename_list:\n",
    "        xb,yb = make_dataset(fn, \"bg\")\n",
    "        x = np.vstack((x,xb))\n",
    "        y = np.concatenate((y,yb))\n",
    "    \n",
    "    return x,y\n",
    "        "
   ]
  }
 ],
 "metadata": {
  "anaconda-cloud": {},
  "kernelspec": {
   "display_name": "Python [conda env:3.6-anaconda-4.4]",
   "language": "python",
   "name": "conda-env-3.6-anaconda-4.4-py"
  },
  "language_info": {
   "codemirror_mode": {
    "name": "ipython",
    "version": 3
   },
   "file_extension": ".py",
   "mimetype": "text/x-python",
   "name": "python",
   "nbconvert_exporter": "python",
   "pygments_lexer": "ipython3",
   "version": "3.6.1"
  }
 },
 "nbformat": 4,
 "nbformat_minor": 1
}
